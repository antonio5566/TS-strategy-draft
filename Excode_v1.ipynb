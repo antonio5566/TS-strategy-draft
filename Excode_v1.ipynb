{
 "cells": [
  {
   "cell_type": "code",
   "execution_count": 24,
   "id": "c5089b8d-5467-4ffd-a521-802d4e7135a2",
   "metadata": {},
   "outputs": [
    {
     "name": "stdout",
     "output_type": "stream",
     "text": [
      "Empty DataFrame\n",
      "Columns: [comp_name]\n",
      "Index: []\n",
      "Count of companies: 0\n"
     ]
    }
   ],
   "source": [
    "# Method 1. Webcrawl from Taifex\n",
    "\n",
    "from bs4 import BeautifulSoup\n",
    "import pandas as pd\n",
    "import requests\n",
    "import datetime\n",
    "import numpy as np\n",
    "import matplotlib.pyplot as plt\n",
    "import yfinance as yf\n",
    "\n",
    "\n",
    "res = requests.get('https://www.taifex.com.tw/cht/9/futuresQADetail')\n",
    "soup = BeautifulSoup(res.text, 'html.parser')\n",
    "name_a_elements = soup.find_all('td', headers='name_a') \n",
    "comp_list = [] #create list \n",
    "\n",
    "for e in name_a_elements:\n",
    "    number = e.text.strip()\n",
    "    if number.isdigit(): \n",
    "        comp_list.append(number)\n",
    "comp_name = pd.DataFrame(comp_list, columns=['comp_name'])\n",
    "comp_name_200 = comp_name[comp_name.index < 200]\n",
    "count = len(comp_name_200 )\n",
    "print(comp_name_200)\n",
    "print('Count of companies:', count)"
   ]
  },
  {
   "cell_type": "code",
   "execution_count": 27,
   "id": "e93e698e-f197-442c-a4b0-0e8bd4572c62",
   "metadata": {
    "tags": []
   },
   "outputs": [
    {
     "ename": "ImportError",
     "evalue": "cannot import name 'calculate_stock' from 'Functionpack' (/Users/tonywu/Desktop/Project/Functionpack.py)",
     "output_type": "error",
     "traceback": [
      "\u001b[0;31m---------------------------------------------------------------------------\u001b[0m",
      "\u001b[0;31mImportError\u001b[0m                               Traceback (most recent call last)",
      "\u001b[0;32m/var/folders/fj/g5rgz0_j4wj1zbz0tr6xdmrh0000gn/T/ipykernel_65475/2225024866.py\u001b[0m in \u001b[0;36m<module>\u001b[0;34m\u001b[0m\n\u001b[1;32m      1\u001b[0m \u001b[0;31m# Method 2. Import Cap Data from csv\u001b[0m\u001b[0;34m\u001b[0m\u001b[0;34m\u001b[0m\u001b[0m\n\u001b[0;32m----> 2\u001b[0;31m \u001b[0;32mfrom\u001b[0m \u001b[0mFunctionpack\u001b[0m \u001b[0;32mimport\u001b[0m \u001b[0mcalculate_stock\u001b[0m\u001b[0;34m\u001b[0m\u001b[0;34m\u001b[0m\u001b[0m\n\u001b[0m\u001b[1;32m      3\u001b[0m \u001b[0mcomp_name\u001b[0m \u001b[0;34m=\u001b[0m \u001b[0mpd\u001b[0m\u001b[0;34m.\u001b[0m\u001b[0mread_csv\u001b[0m\u001b[0;34m(\u001b[0m\u001b[0;34m'Aug.csv'\u001b[0m\u001b[0;34m)\u001b[0m\u001b[0;34m\u001b[0m\u001b[0;34m\u001b[0m\u001b[0m\n\u001b[1;32m      4\u001b[0m \u001b[0mcomp_name\u001b[0m \u001b[0;34m=\u001b[0m \u001b[0mcomp_name\u001b[0m\u001b[0;34m.\u001b[0m\u001b[0mrename\u001b[0m\u001b[0;34m(\u001b[0m\u001b[0mcolumns\u001b[0m\u001b[0;34m=\u001b[0m\u001b[0;34m{\u001b[0m\u001b[0;34m'Unnamed: 0'\u001b[0m\u001b[0;34m:\u001b[0m\u001b[0;34m'Rank'\u001b[0m\u001b[0;34m,\u001b[0m\u001b[0;34m'Unnamed: 1'\u001b[0m\u001b[0;34m:\u001b[0m\u001b[0;34m'comp_name'\u001b[0m\u001b[0;34m}\u001b[0m\u001b[0;34m)\u001b[0m\u001b[0;34m\u001b[0m\u001b[0;34m\u001b[0m\u001b[0m\n\u001b[1;32m      5\u001b[0m \u001b[0mcomp_name_200\u001b[0m \u001b[0;34m=\u001b[0m \u001b[0mcomp_name\u001b[0m\u001b[0;34m.\u001b[0m\u001b[0mloc\u001b[0m\u001b[0;34m[\u001b[0m\u001b[0;34m:\u001b[0m\u001b[0;36m199\u001b[0m\u001b[0;34m,\u001b[0m \u001b[0;34m[\u001b[0m\u001b[0;34m'comp_name'\u001b[0m\u001b[0;34m]\u001b[0m\u001b[0;34m]\u001b[0m\u001b[0;34m\u001b[0m\u001b[0;34m\u001b[0m\u001b[0m\n",
      "\u001b[0;31mImportError\u001b[0m: cannot import name 'calculate_stock' from 'Functionpack' (/Users/tonywu/Desktop/Project/Functionpack.py)"
     ]
    }
   ],
   "source": [
    "# Method 2. Import Cap Data from csv\n",
    "comp_name = pd.read_csv('Aug.csv') \n",
    "comp_name = comp_name.rename(columns={'Unnamed: 0':'Rank','Unnamed: 1':'comp_name'})\n",
    "comp_name_200 = comp_name.loc[:199, ['comp_name']]\n",
    "comp_name_200 "
   ]
  },
  {
   "cell_type": "code",
   "execution_count": 29,
   "id": "7005b0dd-9622-4d80-a591-f0b1c1e3d8f5",
   "metadata": {},
   "outputs": [
    {
     "ename": "NameError",
     "evalue": "name 'calculate_stock' is not defined",
     "output_type": "error",
     "traceback": [
      "\u001b[0;31m---------------------------------------------------------------------------\u001b[0m",
      "\u001b[0;31mNameError\u001b[0m                                 Traceback (most recent call last)",
      "\u001b[0;32m/var/folders/fj/g5rgz0_j4wj1zbz0tr6xdmrh0000gn/T/ipykernel_65475/926241884.py\u001b[0m in \u001b[0;36m<module>\u001b[0;34m\u001b[0m\n\u001b[1;32m      2\u001b[0m \u001b[0;32mfor\u001b[0m \u001b[0mcompany\u001b[0m \u001b[0;32min\u001b[0m \u001b[0mcomp_name_200\u001b[0m\u001b[0;34m[\u001b[0m\u001b[0;34m'comp_name'\u001b[0m\u001b[0;34m]\u001b[0m\u001b[0;34m:\u001b[0m\u001b[0;34m\u001b[0m\u001b[0;34m\u001b[0m\u001b[0m\n\u001b[1;32m      3\u001b[0m     \u001b[0mcompany\u001b[0m \u001b[0;34m=\u001b[0m \u001b[0mstr\u001b[0m\u001b[0;34m(\u001b[0m\u001b[0mcompany\u001b[0m\u001b[0;34m)\u001b[0m\u001b[0;34m\u001b[0m\u001b[0;34m\u001b[0m\u001b[0m\n\u001b[0;32m----> 4\u001b[0;31m     \u001b[0mstock_yf_1\u001b[0m \u001b[0;34m=\u001b[0m \u001b[0mcalculate_stock\u001b[0m\u001b[0;34m(\u001b[0m\u001b[0mcompany\u001b[0m\u001b[0;34m,\u001b[0m\u001b[0mTrackback_day_s\u001b[0m\u001b[0;34m,\u001b[0m\u001b[0mSMA_day\u001b[0m\u001b[0;34m,\u001b[0m\u001b[0mEMA_s_day\u001b[0m\u001b[0;34m,\u001b[0m\u001b[0mEMA_l_day\u001b[0m\u001b[0;34m)\u001b[0m\u001b[0;34m\u001b[0m\u001b[0;34m\u001b[0m\u001b[0m\n\u001b[0m\u001b[1;32m      5\u001b[0m     \u001b[0mstock_yf_2\u001b[0m \u001b[0;34m=\u001b[0m \u001b[0mcalculate_stock\u001b[0m\u001b[0;34m(\u001b[0m\u001b[0mcompany\u001b[0m\u001b[0;34m,\u001b[0m\u001b[0mTrackback_day_l\u001b[0m\u001b[0;34m,\u001b[0m\u001b[0mSMA_day\u001b[0m\u001b[0;34m,\u001b[0m\u001b[0mEMA_s_day\u001b[0m\u001b[0;34m,\u001b[0m\u001b[0mEMA_l_day\u001b[0m\u001b[0;34m)\u001b[0m\u001b[0;34m\u001b[0m\u001b[0;34m\u001b[0m\u001b[0m\n\u001b[1;32m      6\u001b[0m     \u001b[0mtotal_return_1\u001b[0m \u001b[0;34m=\u001b[0m \u001b[0mbacktest_TR\u001b[0m\u001b[0;34m(\u001b[0m\u001b[0mstock_yf_1\u001b[0m\u001b[0;34m)\u001b[0m\u001b[0;34m\u001b[0m\u001b[0;34m\u001b[0m\u001b[0m\n",
      "\u001b[0;31mNameError\u001b[0m: name 'calculate_stock' is not defined"
     ]
    }
   ],
   "source": [
    "results = []\n",
    "for company in comp_name_200['comp_name']:\n",
    "    company = str(company)\n",
    "    stock_yf_1 = calculate_stock(company,Trackback_day_s,SMA_day,EMA_s_day,EMA_l_day)\n",
    "    stock_yf_2 = calculate_stock(company,Trackback_day_l,SMA_day,EMA_s_day,EMA_l_day)\n",
    "    total_return_1 = backtest_TR(stock_yf_1)\n",
    "    total_return_2 = backtest_TR(stock_yf_2)\n",
    "    total_return = round(total_return_1, 2)\n",
    "    total_return = round(total_return_2, 2)\n",
    "    if total_return_1 > 20 and total_return_2 > 20: \n",
    "        results.append((company, total_return_1,total_return_2))\n",
    "        \n",
    "Results=pd.DataFrame(results, columns=['comp_name','short-term Total Return in %','long-term Total Return in %'])\n",
    "\n",
    "advanced_selection = []\n",
    "for r in Results['comp_name']:\n",
    "    f_stock_1=calculate_stock(r,Trackback_day_l,SMA_day,EMA_s_day,EMA_l_day)\n",
    "    R=backtest_DF(f_stock_1)\n",
    "    pos= (R['Return'] > 0).sum()\n",
    "    neg= (R['Return'] < 0).sum()\n",
    "    wr=pos/(neg+pos)\n",
    "    if (wr > 0.5) and (neg+pos)>10 : \n",
    "        advanced_selection.append((r,wr.round(2)))\n",
    "        \n",
    "    print(f\"Backtest result for {r}:\")\n",
    "    print(R)\n",
    "    print(f\"Winning Rate :{wr.round(2)}%\")\n",
    "    \n",
    "    \n",
    "AS=pd.DataFrame(advanced_selection, columns=['comp_name','winning rate'])\n",
    "\n",
    "Futurestar=[]\n",
    "\n",
    "for r in AS['comp_name']:\n",
    "    print(f\"Company {r} :\" )\n",
    "    morgen= morgen_bp(r,Trackback_day_s,SMA_day,EMA_s_day,EMA_l_day)\n",
    "    "
   ]
  }
 ],
 "metadata": {
  "kernelspec": {
   "display_name": "Python 3 (ipykernel)",
   "language": "python",
   "name": "python3"
  },
  "language_info": {
   "codemirror_mode": {
    "name": "ipython",
    "version": 3
   },
   "file_extension": ".py",
   "mimetype": "text/x-python",
   "name": "python",
   "nbconvert_exporter": "python",
   "pygments_lexer": "ipython3",
   "version": "3.9.7"
  }
 },
 "nbformat": 4,
 "nbformat_minor": 5
}
